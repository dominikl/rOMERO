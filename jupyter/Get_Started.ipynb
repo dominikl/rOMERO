{
 "cells": [
  {
   "cell_type": "markdown",
   "metadata": {},
   "source": [
    "## Load library and connect to an OMERO server"
   ]
  },
  {
   "cell_type": "code",
   "execution_count": null,
   "metadata": {},
   "outputs": [],
   "source": [
    "library(romero.gateway)\n",
    "library(EBImage) # for displaying an image (also useful for image analysis!)"
   ]
  },
  {
   "cell_type": "markdown",
   "metadata": {},
   "source": [
    "### Connect to the server"
   ]
  },
  {
   "cell_type": "code",
   "execution_count": null,
   "metadata": {},
   "outputs": [],
   "source": [
    "host_name = readline('Host: ')\n",
    "user_name = readline('Username: ')\n",
    "user_password <- getPass::getPass('OMERO password: ')\n",
    "server <- OMEROServer(host = host_name, username=user_name, password=user_password, port= as.integer(4064))\n",
    "server <- connect(server)\n",
    "paste('Successfully logged in as', server@user$getUserName())"
   ]
  },
  {
   "cell_type": "markdown",
   "metadata": {},
   "source": [
    "## Perform some tasks"
   ]
  },
  {
   "cell_type": "code",
   "execution_count": null,
   "metadata": {},
   "outputs": [],
   "source": [
    "# Load an image\n",
    "imageId = readline('ImageId: ')\n",
    "image <- loadObject(server, \"ImageData\", imageId)\n",
    "pixels <- getPixelValues(image, 1, 1, 1)\n",
    "\n",
    "# Use EBImage to display it\n",
    "ebimage <- EBImage::Image(data = pixels, colormode = 'Grayscale')\n",
    "ebimage <- normalize(ebimage)\n",
    "EBImage::display(ebimage)"
   ]
  },
  {
   "cell_type": "markdown",
   "metadata": {},
   "source": [
    "## Disconnect again"
   ]
  },
  {
   "cell_type": "code",
   "execution_count": null,
   "metadata": {},
   "outputs": [],
   "source": [
    "disconnect(server)"
   ]
  }
 ],
 "metadata": {
  "kernelspec": {
   "display_name": "OMERO R",
   "language": "R",
   "name": "ir"
  },
  "language_info": {
   "codemirror_mode": "r",
   "file_extension": ".r",
   "mimetype": "text/x-r-source",
   "name": "R",
   "pygments_lexer": "r",
   "version": "3.5.1"
  }
 },
 "nbformat": 4,
 "nbformat_minor": 2
}
