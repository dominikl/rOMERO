{
 "cells": [
  {
   "cell_type": "markdown",
   "metadata": {},
   "source": [
    "## Load library and connect to an OMERO server"
   ]
  },
  {
   "cell_type": "code",
   "execution_count": null,
   "metadata": {},
   "outputs": [],
   "source": [
    "library(romero.gateway)\n",
    "\n",
    "# Connect to server\n",
    "server <- OMEROServer(host = 'SERVER_NAME', username='USER_NAME', password='PASSWORD', port= as.integer(4064))\n",
    "server <- connect(server)"
   ]
  },
  {
   "cell_type": "markdown",
   "metadata": {},
   "source": [
    "## Perform some tasks"
   ]
  },
  {
   "cell_type": "code",
   "execution_count": null,
   "metadata": {},
   "outputs": [],
   "source": [
    "# Load an image\n",
    "imageId <- IMAGE_ID # Replace with an actual image id\n",
    "image <- loadObject(server, \"ImageData\", imageId)\n",
    "pixels <- getPixelValues(image, 1, 1, 1)\n",
    "\n",
    "# Use EBImage to display it\n",
    "ebimage <- EBImage::Image(data = pixels, colormode = 'Grayscale')\n",
    "ebimage <- normalize(ebimage)\n",
    "EBImage::display(ebimage)"
   ]
  },
  {
   "cell_type": "markdown",
   "metadata": {},
   "source": [
    "## Disconnect again"
   ]
  },
  {
   "cell_type": "code",
   "execution_count": null,
   "metadata": {},
   "outputs": [],
   "source": [
    "disconnect(server)"
   ]
  }
 ],
 "metadata": {
  "kernelspec": {
   "display_name": "OMERO R",
   "language": "R",
   "name": "ir"
  },
  "language_info": {
   "codemirror_mode": "r",
   "file_extension": ".r",
   "mimetype": "text/x-r-source",
   "name": "R",
   "pygments_lexer": "r",
   "version": "3.5.1"
  }
 },
 "nbformat": 4,
 "nbformat_minor": 2
}
